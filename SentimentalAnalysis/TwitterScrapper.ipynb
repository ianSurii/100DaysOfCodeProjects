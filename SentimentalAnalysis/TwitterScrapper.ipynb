{
 "cells": [
  {
   "cell_type": "code",
   "execution_count": 15,
   "id": "offensive-spell",
   "metadata": {},
   "outputs": [
    {
     "name": "stdout",
     "output_type": "stream",
     "text": [
      "Defaulting to user installation because normal site-packages is not writeable\n",
      "Collecting tweetscrape\n",
      "  Downloading tweetscrape-0.6.2-py3-none-any.whl (32 kB)\n",
      "Requirement already satisfied: requests in /usr/lib/python3/dist-packages (from tweetscrape) (2.22.0)\n",
      "Requirement already satisfied: lxml in /usr/lib/python3/dist-packages (from tweetscrape) (4.5.0)\n",
      "Installing collected packages: tweetscrape\n",
      "Successfully installed tweetscrape-0.6.2\n",
      "Note: you may need to restart the kernel to use updated packages.\n"
     ]
    }
   ],
   "source": [
    "pip install tweetscrape"
   ]
  }
 ],
 "metadata": {
  "kernelspec": {
   "display_name": "Python 3",
   "language": "python",
   "name": "python3"
  },
  "language_info": {
   "codemirror_mode": {
    "name": "ipython",
    "version": 3
   },
   "file_extension": ".py",
   "mimetype": "text/x-python",
   "name": "python",
   "nbconvert_exporter": "python",
   "pygments_lexer": "ipython3",
   "version": "3.8.5"
  }
 },
 "nbformat": 4,
 "nbformat_minor": 5
}
